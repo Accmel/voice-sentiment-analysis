{
 "cells": [
  {
   "cell_type": "code",
   "execution_count": 17,
   "metadata": {},
   "outputs": [
    {
     "name": "stderr",
     "output_type": "stream",
     "text": [
      "/Users/banboooo044/.pyenv/versions/anaconda3-5.3.1/envs/ml3/lib/python3.7/site-packages/sklearn/externals/joblib/__init__.py:15: DeprecationWarning: sklearn.externals.joblib is deprecated in 0.21 and will be removed in 0.23. Please import this functionality directly from joblib, which can be installed with: pip install joblib. If this warning is raised when loading pickled models, you may need to re-serialize those models with scikit-learn 0.21+.\n",
      "  warnings.warn(msg, category=DeprecationWarning)\n"
     ]
    }
   ],
   "source": [
    "from sklearn.preprocessing import StandardScaler\n",
    "from sklearn.svm import SVC, LinearSVC\n",
    "from sklearn.decomposition import TruncatedSVD\n",
    "import numpy as np\n",
    "import pandas as pd\n",
    "from sklearn.metrics import accuracy_score\n",
    "from sklearn.model_selection import StratifiedKFold\n",
    "from sklearn.externals import joblib"
   ]
  },
  {
   "cell_type": "code",
   "execution_count": 18,
   "metadata": {},
   "outputs": [],
   "source": [
    "def load_x_train(features, sparse=False):\n",
    "    x = np.empty((1440, 0))\n",
    "    if \"mfcc\" in features:\n",
    "        #matrix = np.load('../data/mfcc_speech_origin.npz')['arr_0']\n",
    "        matrix = np.load('../data/mfcc_speech_mean_max_min.npz')['arr_0']\n",
    "        x = np.hstack(( x, matrix))\n",
    "        print(x.shape)\n",
    "    if \"delta\" in features:\n",
    "        #matrix = np.load('../data/delta_speech_origin.npz')['arr_0']\n",
    "        matrix = np.load('../data/delta_speech_mean_max_min.npz')['arr_0']\n",
    "        x = np.hstack(( x, matrix))\n",
    "        print(x.shape)\n",
    "    if \"power\" in features:\n",
    "        #matrix = np.load('../data/power_speech_origin.npz')['arr_0']\n",
    "        matrix = np.load('../data/power_speech_mean_max_min.npz')['arr_0']\n",
    "        x = np.hstack(( x, matrix))\n",
    "        print(x.shape)\n",
    "    train_x = x          \n",
    "    return train_x\n",
    "\n",
    "def load_y_train():\n",
    "    return np.load('../data/label_speech_origin.npz')['arr_0'].astype('int') -1"
   ]
  },
  {
   "cell_type": "code",
   "execution_count": 80,
   "metadata": {},
   "outputs": [
    {
     "name": "stdout",
     "output_type": "stream",
     "text": [
      "(1440, 39)\n"
     ]
    }
   ],
   "source": [
    "y = load_y_train()\n",
    "#x = load_x_train([ \"mfcc\", \"delta\", \"power\" ])\n",
    "x = load_x_train([ \"mfcc\"])\n",
    "skf = StratifiedKFold(n_splits=6, shuffle=True, random_state=71)\n",
    "dummy_x = np.zeros(len(y))\n",
    "skf = list(skf.split(dummy_x, y))\n",
    "\n",
    "params_SVC = {\n",
    "              'kernel' : 'linear', \n",
    "              'random_state': 71,\n",
    "              'C': 100, \n",
    "              'max_iter': -1,\n",
    "              'tol': 0.001, \n",
    "              'class_weight': None, \n",
    "              'verbose': False\n",
    "}\n",
    "\n",
    "SVD1 = True\n",
    "params_svd_mfcc = {\n",
    "        'random_state' : 71,\n",
    "        'n_iter' : 8,\n",
    "        'n_components' : 15,\n",
    "}\n",
    "SVD2 = True\n",
    "params_svd_delta = {\n",
    "        'random_state' : 71,\n",
    "        'n_iter' : 8,\n",
    "        'n_components' : 30,\n",
    "}\n",
    "\n",
    "SVD3 = True\n",
    "params_svd_power = {\n",
    "        'random_state' : 71,\n",
    "        'n_iter' : 8,\n",
    "        'n_components' : 50\n",
    "}\n",
    "np.random.seed(71)\n",
    "def svd(x_tr, x_te, svd_params):\n",
    "    scaler = StandardScaler()\n",
    "    scaler_sc = scaler.fit(x_tr)\n",
    "    x_tr = scaler_sc.transform(x_tr)\n",
    "    x_te = scaler_sc.transform(x_te)\n",
    "    svd = TruncatedSVD(**svd_params)\n",
    "    svd = svd.fit(x_tr)\n",
    "    x_tr = svd.transform(x_tr)\n",
    "    x_te = svd.transform(x_te)\n",
    "    return x_tr, x_te"
   ]
  },
  {
   "cell_type": "code",
   "execution_count": 81,
   "metadata": {},
   "outputs": [
    {
     "name": "stdout",
     "output_type": "stream",
     "text": [
      "0.4305555555555555\n"
     ]
    }
   ],
   "source": [
    "from sklearn.metrics import accuracy_score\n",
    "result = []\n",
    "for i, (tr_idx, te_idx) in enumerate(skf):\n",
    "    tr_x, tr_y = x[tr_idx], y[tr_idx]\n",
    "    te_x, te_y = x[te_idx], y[te_idx]\n",
    "    model = SVC(**params_SVC)\n",
    "    X_tr = np.empty((len(tr_idx), 0))\n",
    "    X_te = np.empty((len(te_idx), 0))\n",
    "    if SVD1:\n",
    "        tmp_tr_x, tmp_te_x = svd(tr_x[:, :39], te_x[:, :39], params_svd_mfcc)\n",
    "        X_tr = np.hstack((X_tr, tmp_tr_x))\n",
    "        X_te = np.hstack((X_te, tmp_te_x))\n",
    "    else:\n",
    "        X_tr = np.hstack((X_tr, tr_x[:, :39]))\n",
    "        X_te = np.hstack((X_te, te_x[:, :39]))\n",
    "    if SVD2:\n",
    "        tmp_tr_x, tmp_te_x = svd(tr_x[:, 39:78], te_x[:, 39:78], params_svd_delta)\n",
    "        X_tr = np.hstack((X_tr, tmp_tr_x))\n",
    "        X_te = np.hstack((X_te, tmp_te_x))\n",
    "    else:\n",
    "        X_tr = np.hstack((X_tr, tr_x[:, 39:78]))\n",
    "        X_te = np.hstack((X_te, te_x[:, 39:78]))\n",
    "        \n",
    "    if SVD3:\n",
    "        tmp_tr_x, tmp_te_x = svd(tr_x[:, 78:], te_x[:, 78:],params_svd_power)\n",
    "        X_tr = np.hstack((X_tr, tmp_tr_x))\n",
    "        X_te = np.hstack((X_te, tmp_te_x))\n",
    "    else:\n",
    "        X_tr = np.hstack((X_tr, tr_x[:, 78:]))\n",
    "        X_te = np.hstack((X_te, te_x[:, 78:]))\n",
    "    \n",
    "    scaler = StandardScaler()\n",
    "    scaler_sc = scaler.fit(X_tr)\n",
    "    X_tr = scaler_sc.transform(X_tr)\n",
    "    X_te = scaler_sc.transform(X_te)\n",
    "    model.fit(X_tr, tr_y)\n",
    "    result.append( accuracy_score(te_y,model.predict(X_te)))\n",
    "    joblib.dump(model, f'../model/{i}.model', compress=True)\n",
    "print(np.mean(result))"
   ]
  },
  {
   "cell_type": "code",
   "execution_count": null,
   "metadata": {},
   "outputs": [],
   "source": []
  },
  {
   "cell_type": "code",
   "execution_count": null,
   "metadata": {},
   "outputs": [],
   "source": []
  }
 ],
 "metadata": {
  "kernelspec": {
   "display_name": "Python 3",
   "language": "python",
   "name": "python3"
  },
  "language_info": {
   "codemirror_mode": {
    "name": "ipython",
    "version": 3
   },
   "file_extension": ".py",
   "mimetype": "text/x-python",
   "name": "python",
   "nbconvert_exporter": "python",
   "pygments_lexer": "ipython3",
   "version": "3.7.4"
  },
  "varInspector": {
   "cols": {
    "lenName": 16,
    "lenType": 16,
    "lenVar": 40
   },
   "kernels_config": {
    "python": {
     "delete_cmd_postfix": "",
     "delete_cmd_prefix": "del ",
     "library": "var_list.py",
     "varRefreshCmd": "print(var_dic_list())"
    },
    "r": {
     "delete_cmd_postfix": ") ",
     "delete_cmd_prefix": "rm(",
     "library": "var_list.r",
     "varRefreshCmd": "cat(var_dic_list()) "
    }
   },
   "types_to_exclude": [
    "module",
    "function",
    "builtin_function_or_method",
    "instance",
    "_Feature"
   ],
   "window_display": false
  }
 },
 "nbformat": 4,
 "nbformat_minor": 2
}
